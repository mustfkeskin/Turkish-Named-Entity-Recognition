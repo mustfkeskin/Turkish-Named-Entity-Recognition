{
 "cells": [
  {
   "cell_type": "code",
   "execution_count": 6,
   "metadata": {},
   "outputs": [],
   "source": [
    "import sys\n",
    "import re\n",
    "\n",
    "START_PATTERN = re.compile(r'^(.*?)<B_ENAMEX$', re.I)\n",
    "END_SINGLE_PATTERN = re.compile(r'^TYPE=\"(.*?)\">(.*?)<E_ENAMEX>(.*?)$', re.I)\n",
    "TYPE_PATTERN = re.compile(r'^TYPE=\"(.*?)\">(.*?)$', re.I)\n",
    "END_MULTI_PATTERN = re.compile(r'^(.*?)<E_ENAMEX>(.*?)$', re.I)\n",
    "EOS_PATTERN = re.compile(r'^([^<>]*)\\.?\\t(\\d+)$', re.I)\n",
    "NON_ENTITY_TYPE = 'O'\n",
    "\n",
    "\n",
    "def check_and_process_eos(token):\n",
    "    match = re.match(EOS_PATTERN, token)\n",
    "    if match:\n",
    "        out.write(match.group(1) + '\\t' + cur_type + '\\n')\n",
    "        out.write('.' + '\\t' + cur_type + '\\n')\n",
    "        out.write('\\n')\n",
    "        return True\n",
    "    return False\n",
    "\n",
    "def convert(infile, outfile, cur_type):\n",
    "    with open(infile, \"r\", encoding=\"utf-8\", errors=\"ignore\") as f, open(outfile, 'w', encoding=\"utf-8\") as out:\n",
    "        for line in f:\n",
    "            line = line.decode()\n",
    "            for token in line.strip().split(' '):\n",
    "                token = token.strip()\n",
    "                if not token:\n",
    "                    continue\n",
    "\n",
    "                match = re.match(START_PATTERN, token)\n",
    "                if match:\n",
    "                    if match.group(1):\n",
    "                        out.write(match.group(1) + '\\t' + NON_ENTITY_TYPE + '\\n')\n",
    "                    continue\n",
    "\n",
    "                match = re.match(END_SINGLE_PATTERN, token)\n",
    "                if match:\n",
    "                    out.write(match.group(2) + '\\t' + match.group(1) + '\\n')\n",
    "                    cur_type = NON_ENTITY_TYPE\n",
    "                    if not check_and_process_eos(match.group(3)):\n",
    "                        out.write(match.group(3) + '\\t' + cur_type + '\\n')\n",
    "                    continue\n",
    "\n",
    "                match = re.match(TYPE_PATTERN, token)\n",
    "                if match:\n",
    "                    cur_type = match.group(1)\n",
    "                    out.write(match.group(2) + '\\t' + cur_type + '\\n')\n",
    "                    continue\n",
    "\n",
    "                match = re.match(END_MULTI_PATTERN, token)\n",
    "                if match:\n",
    "                    out.write(match.group(1) + '\\t' + cur_type + '\\n')\n",
    "                    cur_type = NON_ENTITY_TYPE\n",
    "                    if not check_and_process_eos(match.group(2)):\n",
    "                        out.write(match.group(2) + '\\t' + cur_type + '\\n')\n",
    "                    continue\n",
    "\n",
    "                if check_and_process_eos(token):\n",
    "                    continue\n",
    "\n",
    "                out.write(token + '\\t' + cur_type + '\\n')\n",
    "            out.write('\\n')\n",
    "\n",
    "\n",
    "infile  = \"../Data/NER_data/WFS7.MUClabeled\"\n",
    "outfile = \"../Data/NER_data/BIO_NETest.txt\"\n",
    "cur_type = NON_ENTITY_TYPE"
   ]
  },
  {
   "cell_type": "code",
   "execution_count": 7,
   "metadata": {},
   "outputs": [
    {
     "ename": "AttributeError",
     "evalue": "'str' object has no attribute 'decode'",
     "output_type": "error",
     "traceback": [
      "\u001b[1;31m---------------------------------------------------------------------------\u001b[0m",
      "\u001b[1;31mAttributeError\u001b[0m                            Traceback (most recent call last)",
      "\u001b[1;32m<ipython-input-7-e1b57c29223b>\u001b[0m in \u001b[0;36m<module>\u001b[1;34m()\u001b[0m\n\u001b[1;32m----> 1\u001b[1;33m \u001b[0mconvert\u001b[0m\u001b[1;33m(\u001b[0m\u001b[0minfile\u001b[0m\u001b[1;33m,\u001b[0m \u001b[1;34m\"../Data/NER_data/BIO_Test.txt\"\u001b[0m\u001b[1;33m,\u001b[0m \u001b[0mcur_type\u001b[0m\u001b[1;33m)\u001b[0m\u001b[1;33m\u001b[0m\u001b[0m\n\u001b[0m",
      "\u001b[1;32m<ipython-input-6-3fbfc98f11d2>\u001b[0m in \u001b[0;36mconvert\u001b[1;34m(infile, outfile, cur_type)\u001b[0m\n\u001b[0;32m     22\u001b[0m     \u001b[1;32mwith\u001b[0m \u001b[0mopen\u001b[0m\u001b[1;33m(\u001b[0m\u001b[0minfile\u001b[0m\u001b[1;33m,\u001b[0m \u001b[1;34m\"r\"\u001b[0m\u001b[1;33m,\u001b[0m \u001b[0mencoding\u001b[0m\u001b[1;33m=\u001b[0m\u001b[1;34m\"utf-8\"\u001b[0m\u001b[1;33m,\u001b[0m \u001b[0merrors\u001b[0m\u001b[1;33m=\u001b[0m\u001b[1;34m\"ignore\"\u001b[0m\u001b[1;33m)\u001b[0m \u001b[1;32mas\u001b[0m \u001b[0mf\u001b[0m\u001b[1;33m,\u001b[0m \u001b[0mopen\u001b[0m\u001b[1;33m(\u001b[0m\u001b[0moutfile\u001b[0m\u001b[1;33m,\u001b[0m \u001b[1;34m'w'\u001b[0m\u001b[1;33m,\u001b[0m \u001b[0mencoding\u001b[0m\u001b[1;33m=\u001b[0m\u001b[1;34m\"utf-8\"\u001b[0m\u001b[1;33m)\u001b[0m \u001b[1;32mas\u001b[0m \u001b[0mout\u001b[0m\u001b[1;33m:\u001b[0m\u001b[1;33m\u001b[0m\u001b[0m\n\u001b[0;32m     23\u001b[0m         \u001b[1;32mfor\u001b[0m \u001b[0mline\u001b[0m \u001b[1;32min\u001b[0m \u001b[0mf\u001b[0m\u001b[1;33m:\u001b[0m\u001b[1;33m\u001b[0m\u001b[0m\n\u001b[1;32m---> 24\u001b[1;33m             \u001b[0mline\u001b[0m \u001b[1;33m=\u001b[0m \u001b[0mline\u001b[0m\u001b[1;33m.\u001b[0m\u001b[0mdecode\u001b[0m\u001b[1;33m(\u001b[0m\u001b[1;33m)\u001b[0m\u001b[1;33m\u001b[0m\u001b[0m\n\u001b[0m\u001b[0;32m     25\u001b[0m             \u001b[1;32mfor\u001b[0m \u001b[0mtoken\u001b[0m \u001b[1;32min\u001b[0m \u001b[0mline\u001b[0m\u001b[1;33m.\u001b[0m\u001b[0mstrip\u001b[0m\u001b[1;33m(\u001b[0m\u001b[1;33m)\u001b[0m\u001b[1;33m.\u001b[0m\u001b[0msplit\u001b[0m\u001b[1;33m(\u001b[0m\u001b[1;34m' '\u001b[0m\u001b[1;33m)\u001b[0m\u001b[1;33m:\u001b[0m\u001b[1;33m\u001b[0m\u001b[0m\n\u001b[0;32m     26\u001b[0m                 \u001b[0mtoken\u001b[0m \u001b[1;33m=\u001b[0m \u001b[0mtoken\u001b[0m\u001b[1;33m.\u001b[0m\u001b[0mstrip\u001b[0m\u001b[1;33m(\u001b[0m\u001b[1;33m)\u001b[0m\u001b[1;33m\u001b[0m\u001b[0m\n",
      "\u001b[1;31mAttributeError\u001b[0m: 'str' object has no attribute 'decode'"
     ]
    }
   ],
   "source": [
    "convert(infile, \"../Data/NER_data/BIO_Test.txt\", cur_type)"
   ]
  },
  {
   "cell_type": "code",
   "execution_count": 5,
   "metadata": {},
   "outputs": [],
   "source": [
    "convert(\"../Data/NER_data/Train7.MUClabeled\", \"../Data/NER_data/BIO_Train.txt\", cur_type)"
   ]
  },
  {
   "cell_type": "code",
   "execution_count": null,
   "metadata": {},
   "outputs": [],
   "source": []
  }
 ],
 "metadata": {
  "kernelspec": {
   "display_name": "Python 3",
   "language": "python",
   "name": "python3"
  },
  "language_info": {
   "codemirror_mode": {
    "name": "ipython",
    "version": 3
   },
   "file_extension": ".py",
   "mimetype": "text/x-python",
   "name": "python",
   "nbconvert_exporter": "python",
   "pygments_lexer": "ipython3",
   "version": "3.6.5"
  }
 },
 "nbformat": 4,
 "nbformat_minor": 2
}
